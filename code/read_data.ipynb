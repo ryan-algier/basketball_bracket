{
 "cells": [
  {
   "cell_type": "markdown",
   "id": "91110deb",
   "metadata": {},
   "source": [
    "## Get the data from the kaggle dataset using their API\n",
    "Source: https://www.kaggle.com/datasets/andrewsundberg/college-basketball-dataset/data?select=cbb.csv"
   ]
  },
  {
   "cell_type": "code",
   "execution_count": 26,
   "id": "8ef67f80",
   "metadata": {},
   "outputs": [],
   "source": [
    "import kagglehub\n",
    "from kagglehub import KaggleDatasetAdapter\n",
    "import polars as pl\n",
    "\n",
    "file_path = \"cbb.csv\"\n",
    "\n",
    "lf = kagglehub.dataset_load(\n",
    "  KaggleDatasetAdapter.POLARS,\n",
    "  \"andrewsundberg/college-basketball-dataset\",\n",
    "  file_path,\n",
    "  # See the documenation for more information:\n",
    "  # https://github.com/Kaggle/kagglehub/blob/main/README.md#kaggledatasetadapterpolars\n",
    ")\n",
    "\n",
    "df = lf.collect()"
   ]
  },
  {
   "cell_type": "markdown",
   "id": "588cf8cb",
   "metadata": {},
   "source": [
    "## Exploratory Analysis\n",
    "* There is a good amount of information about the dataset and column specifics on the kaggle page where the data is from"
   ]
  },
  {
   "cell_type": "code",
   "execution_count": 27,
   "id": "c4262e15",
   "metadata": {},
   "outputs": [
    {
     "data": {
      "text/html": [
       "<div><style>\n",
       ".dataframe > thead > tr,\n",
       ".dataframe > tbody > tr {\n",
       "  text-align: right;\n",
       "  white-space: pre-wrap;\n",
       "}\n",
       "</style>\n",
       "<small>shape: (5, 24)</small><table border=\"1\" class=\"dataframe\"><thead><tr><th>TEAM</th><th>CONF</th><th>G</th><th>W</th><th>ADJOE</th><th>ADJDE</th><th>BARTHAG</th><th>EFG_O</th><th>EFG_D</th><th>TOR</th><th>TORD</th><th>ORB</th><th>DRB</th><th>FTR</th><th>FTRD</th><th>2P_O</th><th>2P_D</th><th>3P_O</th><th>3P_D</th><th>ADJ_T</th><th>WAB</th><th>POSTSEASON</th><th>SEED</th><th>YEAR</th></tr><tr><td>str</td><td>str</td><td>i64</td><td>i64</td><td>f64</td><td>f64</td><td>f64</td><td>f64</td><td>f64</td><td>f64</td><td>f64</td><td>f64</td><td>f64</td><td>f64</td><td>f64</td><td>f64</td><td>f64</td><td>f64</td><td>f64</td><td>f64</td><td>f64</td><td>str</td><td>str</td><td>i64</td></tr></thead><tbody><tr><td>&quot;North Carolina&quot;</td><td>&quot;ACC&quot;</td><td>40</td><td>33</td><td>123.3</td><td>94.9</td><td>0.9531</td><td>52.6</td><td>48.1</td><td>15.4</td><td>18.2</td><td>40.7</td><td>30.0</td><td>32.3</td><td>30.4</td><td>53.9</td><td>44.6</td><td>32.7</td><td>36.2</td><td>71.7</td><td>8.6</td><td>&quot;2ND&quot;</td><td>&quot;1&quot;</td><td>2016</td></tr><tr><td>&quot;Wisconsin&quot;</td><td>&quot;B10&quot;</td><td>40</td><td>36</td><td>129.1</td><td>93.6</td><td>0.9758</td><td>54.8</td><td>47.7</td><td>12.4</td><td>15.8</td><td>32.1</td><td>23.7</td><td>36.2</td><td>22.4</td><td>54.8</td><td>44.7</td><td>36.5</td><td>37.5</td><td>59.3</td><td>11.3</td><td>&quot;2ND&quot;</td><td>&quot;1&quot;</td><td>2015</td></tr><tr><td>&quot;Michigan&quot;</td><td>&quot;B10&quot;</td><td>40</td><td>33</td><td>114.4</td><td>90.4</td><td>0.9375</td><td>53.9</td><td>47.7</td><td>14.0</td><td>19.5</td><td>25.5</td><td>24.9</td><td>30.7</td><td>30.0</td><td>54.7</td><td>46.8</td><td>35.2</td><td>33.2</td><td>65.9</td><td>6.9</td><td>&quot;2ND&quot;</td><td>&quot;3&quot;</td><td>2018</td></tr><tr><td>&quot;Texas Tech&quot;</td><td>&quot;B12&quot;</td><td>38</td><td>31</td><td>115.2</td><td>85.2</td><td>0.9696</td><td>53.5</td><td>43.0</td><td>17.7</td><td>22.8</td><td>27.4</td><td>28.7</td><td>32.9</td><td>36.6</td><td>52.8</td><td>41.9</td><td>36.5</td><td>29.7</td><td>67.5</td><td>7.0</td><td>&quot;2ND&quot;</td><td>&quot;3&quot;</td><td>2019</td></tr><tr><td>&quot;Gonzaga&quot;</td><td>&quot;WCC&quot;</td><td>39</td><td>37</td><td>117.8</td><td>86.3</td><td>0.9728</td><td>56.6</td><td>41.1</td><td>16.2</td><td>17.1</td><td>30.0</td><td>26.2</td><td>39.0</td><td>26.9</td><td>56.3</td><td>40.0</td><td>38.2</td><td>29.0</td><td>71.5</td><td>7.7</td><td>&quot;2ND&quot;</td><td>&quot;1&quot;</td><td>2017</td></tr></tbody></table></div>"
      ],
      "text/plain": [
       "shape: (5, 24)\n",
       "┌────────────────┬──────┬─────┬─────┬───┬──────┬────────────┬──────┬──────┐\n",
       "│ TEAM           ┆ CONF ┆ G   ┆ W   ┆ … ┆ WAB  ┆ POSTSEASON ┆ SEED ┆ YEAR │\n",
       "│ ---            ┆ ---  ┆ --- ┆ --- ┆   ┆ ---  ┆ ---        ┆ ---  ┆ ---  │\n",
       "│ str            ┆ str  ┆ i64 ┆ i64 ┆   ┆ f64  ┆ str        ┆ str  ┆ i64  │\n",
       "╞════════════════╪══════╪═════╪═════╪═══╪══════╪════════════╪══════╪══════╡\n",
       "│ North Carolina ┆ ACC  ┆ 40  ┆ 33  ┆ … ┆ 8.6  ┆ 2ND        ┆ 1    ┆ 2016 │\n",
       "│ Wisconsin      ┆ B10  ┆ 40  ┆ 36  ┆ … ┆ 11.3 ┆ 2ND        ┆ 1    ┆ 2015 │\n",
       "│ Michigan       ┆ B10  ┆ 40  ┆ 33  ┆ … ┆ 6.9  ┆ 2ND        ┆ 3    ┆ 2018 │\n",
       "│ Texas Tech     ┆ B12  ┆ 38  ┆ 31  ┆ … ┆ 7.0  ┆ 2ND        ┆ 3    ┆ 2019 │\n",
       "│ Gonzaga        ┆ WCC  ┆ 39  ┆ 37  ┆ … ┆ 7.7  ┆ 2ND        ┆ 1    ┆ 2017 │\n",
       "└────────────────┴──────┴─────┴─────┴───┴──────┴────────────┴──────┴──────┘"
      ]
     },
     "execution_count": 27,
     "metadata": {},
     "output_type": "execute_result"
    }
   ],
   "source": [
    "df.head()"
   ]
  },
  {
   "cell_type": "code",
   "execution_count": null,
   "id": "1d54a16c",
   "metadata": {},
   "outputs": [
    {
     "data": {
      "text/html": [
       "<div><style>\n",
       ".dataframe > thead > tr,\n",
       ".dataframe > tbody > tr {\n",
       "  text-align: right;\n",
       "  white-space: pre-wrap;\n",
       "}\n",
       "</style>\n",
       "<small>shape: (9, 25)</small><table border=\"1\" class=\"dataframe\"><thead><tr><th>statistic</th><th>TEAM</th><th>CONF</th><th>G</th><th>W</th><th>ADJOE</th><th>ADJDE</th><th>BARTHAG</th><th>EFG_O</th><th>EFG_D</th><th>TOR</th><th>TORD</th><th>ORB</th><th>DRB</th><th>FTR</th><th>FTRD</th><th>2P_O</th><th>2P_D</th><th>3P_O</th><th>3P_D</th><th>ADJ_T</th><th>WAB</th><th>POSTSEASON</th><th>SEED</th><th>YEAR</th></tr><tr><td>str</td><td>str</td><td>str</td><td>f64</td><td>f64</td><td>f64</td><td>f64</td><td>f64</td><td>f64</td><td>f64</td><td>f64</td><td>f64</td><td>f64</td><td>f64</td><td>f64</td><td>f64</td><td>f64</td><td>f64</td><td>f64</td><td>f64</td><td>f64</td><td>f64</td><td>str</td><td>str</td><td>f64</td></tr></thead><tbody><tr><td>&quot;count&quot;</td><td>&quot;3885&quot;</td><td>&quot;3885&quot;</td><td>3885.0</td><td>3885.0</td><td>3885.0</td><td>3885.0</td><td>3885.0</td><td>3885.0</td><td>3885.0</td><td>3885.0</td><td>3885.0</td><td>3885.0</td><td>3885.0</td><td>3885.0</td><td>3885.0</td><td>3885.0</td><td>3885.0</td><td>3885.0</td><td>3885.0</td><td>3885.0</td><td>3885.0</td><td>&quot;3885&quot;</td><td>&quot;3885&quot;</td><td>3885.0</td></tr><tr><td>&quot;null_count&quot;</td><td>&quot;0&quot;</td><td>&quot;0&quot;</td><td>0.0</td><td>0.0</td><td>0.0</td><td>0.0</td><td>0.0</td><td>0.0</td><td>0.0</td><td>0.0</td><td>0.0</td><td>0.0</td><td>0.0</td><td>0.0</td><td>0.0</td><td>0.0</td><td>0.0</td><td>0.0</td><td>0.0</td><td>0.0</td><td>0.0</td><td>&quot;0&quot;</td><td>&quot;0&quot;</td><td>0.0</td></tr><tr><td>&quot;mean&quot;</td><td>null</td><td>null</td><td>30.531532</td><td>16.075418</td><td>103.339743</td><td>103.341519</td><td>0.493928</td><td>49.935856</td><td>50.125946</td><td>18.551223</td><td>18.483115</td><td>29.26731</td><td>29.471918</td><td>34.384813</td><td>34.645766</td><td>49.224402</td><td>49.38888</td><td>34.141133</td><td>34.319614</td><td>67.712227</td><td>-7.639967</td><td>null</td><td>null</td><td>2018.403604</td></tr><tr><td>&quot;std&quot;</td><td>null</td><td>null</td><td>3.809623</td><td>6.50657</td><td>7.315009</td><td>6.490684</td><td>0.255374</td><td>3.079803</td><td>2.855079</td><td>2.145057</td><td>2.289045</td><td>4.201366</td><td>3.20732</td><td>5.465945</td><td>6.33745</td><td>3.41638</td><td>3.290915</td><td>2.713812</td><td>2.406306</td><td>3.037251</td><td>6.826502</td><td>null</td><td>null</td><td>3.583747</td></tr><tr><td>&quot;min&quot;</td><td>&quot;Abilene Christian&quot;</td><td>&quot;A10&quot;</td><td>5.0</td><td>0.0</td><td>76.6</td><td>84.0</td><td>0.005</td><td>39.2</td><td>39.6</td><td>11.9</td><td>10.2</td><td>14.4</td><td>18.4</td><td>19.6</td><td>16.2</td><td>37.7</td><td>37.7</td><td>24.7</td><td>26.1</td><td>57.2</td><td>-25.2</td><td>&quot;2ND&quot;</td><td>&quot;1&quot;</td><td>2013.0</td></tr><tr><td>&quot;25%&quot;</td><td>null</td><td>null</td><td>29.0</td><td>11.0</td><td>98.3</td><td>98.6</td><td>0.2812</td><td>47.9</td><td>48.2</td><td>17.1</td><td>16.9</td><td>26.5</td><td>27.2</td><td>30.5</td><td>30.1</td><td>46.9</td><td>47.2</td><td>32.3</td><td>32.7</td><td>65.7</td><td>-12.6</td><td>null</td><td>null</td><td>2015.0</td></tr><tr><td>&quot;50%&quot;</td><td>null</td><td>null</td><td>31.0</td><td>16.0</td><td>103.0</td><td>103.5</td><td>0.474</td><td>49.9</td><td>50.1</td><td>18.5</td><td>18.4</td><td>29.3</td><td>29.4</td><td>34.2</td><td>34.0</td><td>49.2</td><td>49.4</td><td>34.1</td><td>34.3</td><td>67.6</td><td>-8.1</td><td>null</td><td>null</td><td>2018.0</td></tr><tr><td>&quot;75%&quot;</td><td>null</td><td>null</td><td>33.0</td><td>21.0</td><td>108.1</td><td>108.0</td><td>0.7164</td><td>52.0</td><td>52.0</td><td>19.9</td><td>19.9</td><td>32.0</td><td>31.6</td><td>38.0</td><td>38.6</td><td>51.4</td><td>51.7</td><td>35.9</td><td>35.9</td><td>69.7</td><td>-3.0</td><td>null</td><td>null</td><td>2022.0</td></tr><tr><td>&quot;max&quot;</td><td>&quot;Youngstown St.&quot;</td><td>&quot;ind&quot;</td><td>40.0</td><td>38.0</td><td>129.1</td><td>124.0</td><td>0.9842</td><td>61.0</td><td>60.1</td><td>27.1</td><td>28.5</td><td>43.6</td><td>40.4</td><td>58.6</td><td>60.7</td><td>64.0</td><td>61.2</td><td>44.1</td><td>43.1</td><td>83.4</td><td>13.1</td><td>&quot;S16&quot;</td><td>&quot;NA&quot;</td><td>2024.0</td></tr></tbody></table></div>"
      ],
      "text/plain": [
       "shape: (9, 25)\n",
       "┌────────────┬────────────────┬──────┬───────────┬───┬───────────┬────────────┬──────┬─────────────┐\n",
       "│ statistic  ┆ TEAM           ┆ CONF ┆ G         ┆ … ┆ WAB       ┆ POSTSEASON ┆ SEED ┆ YEAR        │\n",
       "│ ---        ┆ ---            ┆ ---  ┆ ---       ┆   ┆ ---       ┆ ---        ┆ ---  ┆ ---         │\n",
       "│ str        ┆ str            ┆ str  ┆ f64       ┆   ┆ f64       ┆ str        ┆ str  ┆ f64         │\n",
       "╞════════════╪════════════════╪══════╪═══════════╪═══╪═══════════╪════════════╪══════╪═════════════╡\n",
       "│ count      ┆ 3885           ┆ 3885 ┆ 3885.0    ┆ … ┆ 3885.0    ┆ 3885       ┆ 3885 ┆ 3885.0      │\n",
       "│ null_count ┆ 0              ┆ 0    ┆ 0.0       ┆ … ┆ 0.0       ┆ 0          ┆ 0    ┆ 0.0         │\n",
       "│ mean       ┆ null           ┆ null ┆ 30.531532 ┆ … ┆ -7.639967 ┆ null       ┆ null ┆ 2018.403604 │\n",
       "│ std        ┆ null           ┆ null ┆ 3.809623  ┆ … ┆ 6.826502  ┆ null       ┆ null ┆ 3.583747    │\n",
       "│ min        ┆ Abilene        ┆ A10  ┆ 5.0       ┆ … ┆ -25.2     ┆ 2ND        ┆ 1    ┆ 2013.0      │\n",
       "│            ┆ Christian      ┆      ┆           ┆   ┆           ┆            ┆      ┆             │\n",
       "│ 25%        ┆ null           ┆ null ┆ 29.0      ┆ … ┆ -12.6     ┆ null       ┆ null ┆ 2015.0      │\n",
       "│ 50%        ┆ null           ┆ null ┆ 31.0      ┆ … ┆ -8.1      ┆ null       ┆ null ┆ 2018.0      │\n",
       "│ 75%        ┆ null           ┆ null ┆ 33.0      ┆ … ┆ -3.0      ┆ null       ┆ null ┆ 2022.0      │\n",
       "│ max        ┆ Youngstown St. ┆ ind  ┆ 40.0      ┆ … ┆ 13.1      ┆ S16        ┆ NA   ┆ 2024.0      │\n",
       "└────────────┴────────────────┴──────┴───────────┴───┴───────────┴────────────┴──────┴─────────────┘"
      ]
     },
     "execution_count": 28,
     "metadata": {},
     "output_type": "execute_result"
    }
   ],
   "source": [
    "df.describe()\n",
    "## there are no nulls\n",
    "## postseason and seed are strings which we may want to make numbers or binary later on\n",
    "## the 2025 data is not included yet, we could add that in later if we really wanted to"
   ]
  },
  {
   "cell_type": "markdown",
   "id": "c517f661",
   "metadata": {},
   "source": [
    "## Data transformation:\n",
    "* For this project, I am going to try to predict the number of postseason wins for each team in hopes of predicting the elusive perfect bracket\n",
    "* This will require some transformations to the data namely:\n",
    "    * translating the POSTSEASON column into a POSTSEASON_WINS column which will become our depenedent variable\n",
    "    * removing all of the data for the teams that did not make the post-season: all of these teams would effectively have 0 post-season wins and would add a lot of data that has little value because we are aiming to differentiate between the top teams that made the tournament when completing a bracket"
   ]
  },
  {
   "cell_type": "code",
   "execution_count": 29,
   "id": "3c74f67d",
   "metadata": {},
   "outputs": [
    {
     "name": "stdout",
     "output_type": "stream",
     "text": [
      "['N/A', 'R32', 'NA', 'S16', 'R68', '2ND', 'R64', 'F4', 'E8', 'Champions']\n",
      "['15', '10', '8', '7', '9', '12', '2', '16', '6', '13', '3', '1', '5', '11', 'NA', '14', '4', 'N/A']\n",
      "!!! CHECK THIS IS WHAT WE ENDED UP DOING !!!\n"
     ]
    }
   ],
   "source": [
    "## Looking at these results, we can figure out which variables we need to translate\n",
    "print(df.get_column('POSTSEASON').unique().to_list())\n",
    "\n",
    "## This output shows there is no differentiation for the Round of R68 teams\n",
    "## Since these games are often ignored in classic 64 team brackets, they will be removed from the data\n",
    "print(df.get_column('SEED').unique().to_list())\n",
    "print('!!! CHECK THIS IS WHAT WE ENDED UP DOING !!!')"
   ]
  },
  {
   "cell_type": "code",
   "execution_count": 34,
   "id": "8e4fc677",
   "metadata": {},
   "outputs": [],
   "source": [
    "POSTSEASON_to_WINS = {\n",
    "    'R68':      0, \n",
    "    'R64':      0, \n",
    "    'R32':      1, \n",
    "    'S16':      2, \n",
    "    'E8':       3, \n",
    "    'F4':       4, \n",
    "    '2ND':      5, \n",
    "    'Champions':6, \n",
    "}\n",
    "\n",
    "df_postseason_wins = (df\n",
    "                      .filter(pl.col('POSTSEASON').is_in(POSTSEASON_to_WINS.keys()))\n",
    "                      .with_columns(pl.col('POSTSEASON').replace(POSTSEASON_to_WINS).alias('POSTSEASON_WINS').cast(pl.Int32),\n",
    "                                    pl.col('SEED').cast(pl.Int32))\n",
    "                )"
   ]
  },
  {
   "cell_type": "code",
   "execution_count": 35,
   "id": "929891bf",
   "metadata": {},
   "outputs": [
    {
     "data": {
      "text/html": [
       "<div><style>\n",
       ".dataframe > thead > tr,\n",
       ".dataframe > tbody > tr {\n",
       "  text-align: right;\n",
       "  white-space: pre-wrap;\n",
       "}\n",
       "</style>\n",
       "<small>shape: (748, 25)</small><table border=\"1\" class=\"dataframe\"><thead><tr><th>TEAM</th><th>CONF</th><th>G</th><th>W</th><th>ADJOE</th><th>ADJDE</th><th>BARTHAG</th><th>EFG_O</th><th>EFG_D</th><th>TOR</th><th>TORD</th><th>ORB</th><th>DRB</th><th>FTR</th><th>FTRD</th><th>2P_O</th><th>2P_D</th><th>3P_O</th><th>3P_D</th><th>ADJ_T</th><th>WAB</th><th>POSTSEASON</th><th>SEED</th><th>YEAR</th><th>POSTSEASON_WINS</th></tr><tr><td>str</td><td>str</td><td>i64</td><td>i64</td><td>f64</td><td>f64</td><td>f64</td><td>f64</td><td>f64</td><td>f64</td><td>f64</td><td>f64</td><td>f64</td><td>f64</td><td>f64</td><td>f64</td><td>f64</td><td>f64</td><td>f64</td><td>f64</td><td>f64</td><td>str</td><td>i32</td><td>i64</td><td>i32</td></tr></thead><tbody><tr><td>&quot;North Carolina&quot;</td><td>&quot;ACC&quot;</td><td>40</td><td>33</td><td>123.3</td><td>94.9</td><td>0.9531</td><td>52.6</td><td>48.1</td><td>15.4</td><td>18.2</td><td>40.7</td><td>30.0</td><td>32.3</td><td>30.4</td><td>53.9</td><td>44.6</td><td>32.7</td><td>36.2</td><td>71.7</td><td>8.6</td><td>&quot;2ND&quot;</td><td>1</td><td>2016</td><td>5</td></tr><tr><td>&quot;Wisconsin&quot;</td><td>&quot;B10&quot;</td><td>40</td><td>36</td><td>129.1</td><td>93.6</td><td>0.9758</td><td>54.8</td><td>47.7</td><td>12.4</td><td>15.8</td><td>32.1</td><td>23.7</td><td>36.2</td><td>22.4</td><td>54.8</td><td>44.7</td><td>36.5</td><td>37.5</td><td>59.3</td><td>11.3</td><td>&quot;2ND&quot;</td><td>1</td><td>2015</td><td>5</td></tr><tr><td>&quot;Michigan&quot;</td><td>&quot;B10&quot;</td><td>40</td><td>33</td><td>114.4</td><td>90.4</td><td>0.9375</td><td>53.9</td><td>47.7</td><td>14.0</td><td>19.5</td><td>25.5</td><td>24.9</td><td>30.7</td><td>30.0</td><td>54.7</td><td>46.8</td><td>35.2</td><td>33.2</td><td>65.9</td><td>6.9</td><td>&quot;2ND&quot;</td><td>3</td><td>2018</td><td>5</td></tr><tr><td>&quot;Texas Tech&quot;</td><td>&quot;B12&quot;</td><td>38</td><td>31</td><td>115.2</td><td>85.2</td><td>0.9696</td><td>53.5</td><td>43.0</td><td>17.7</td><td>22.8</td><td>27.4</td><td>28.7</td><td>32.9</td><td>36.6</td><td>52.8</td><td>41.9</td><td>36.5</td><td>29.7</td><td>67.5</td><td>7.0</td><td>&quot;2ND&quot;</td><td>3</td><td>2019</td><td>5</td></tr><tr><td>&quot;Gonzaga&quot;</td><td>&quot;WCC&quot;</td><td>39</td><td>37</td><td>117.8</td><td>86.3</td><td>0.9728</td><td>56.6</td><td>41.1</td><td>16.2</td><td>17.1</td><td>30.0</td><td>26.2</td><td>39.0</td><td>26.9</td><td>56.3</td><td>40.0</td><td>38.2</td><td>29.0</td><td>71.5</td><td>7.7</td><td>&quot;2ND&quot;</td><td>1</td><td>2017</td><td>5</td></tr><tr><td>&hellip;</td><td>&hellip;</td><td>&hellip;</td><td>&hellip;</td><td>&hellip;</td><td>&hellip;</td><td>&hellip;</td><td>&hellip;</td><td>&hellip;</td><td>&hellip;</td><td>&hellip;</td><td>&hellip;</td><td>&hellip;</td><td>&hellip;</td><td>&hellip;</td><td>&hellip;</td><td>&hellip;</td><td>&hellip;</td><td>&hellip;</td><td>&hellip;</td><td>&hellip;</td><td>&hellip;</td><td>&hellip;</td><td>&hellip;</td><td>&hellip;</td></tr><tr><td>&quot;Montana St.&quot;</td><td>&quot;BSky&quot;</td><td>31</td><td>17</td><td>102.9</td><td>105.8</td><td>0.4193</td><td>53.9</td><td>52.3</td><td>16.8</td><td>18.6</td><td>20.7</td><td>28.6</td><td>30.7</td><td>37.0</td><td>53.4</td><td>54.1</td><td>36.4</td><td>32.6</td><td>68.5</td><td>-12.6</td><td>&quot;R68&quot;</td><td>16</td><td>2024</td><td>0</td></tr><tr><td>&quot;Stetson&quot;</td><td>&quot;ASun&quot;</td><td>31</td><td>22</td><td>108.3</td><td>114.0</td><td>0.3559</td><td>53.4</td><td>52.0</td><td>15.8</td><td>13.5</td><td>27.5</td><td>31.2</td><td>31.7</td><td>25.9</td><td>52.5</td><td>52.2</td><td>36.5</td><td>34.5</td><td>66.0</td><td>-6.8</td><td>&quot;R64&quot;</td><td>16</td><td>2024</td><td>0</td></tr><tr><td>&quot;Howard&quot;</td><td>&quot;MEAC&quot;</td><td>32</td><td>18</td><td>104.5</td><td>112.9</td><td>0.2913</td><td>52.0</td><td>50.9</td><td>21.4</td><td>16.7</td><td>33.4</td><td>30.7</td><td>42.2</td><td>39.1</td><td>49.2</td><td>50.8</td><td>37.5</td><td>34.0</td><td>67.7</td><td>-12.1</td><td>&quot;R68&quot;</td><td>16</td><td>2024</td><td>0</td></tr><tr><td>&quot;Grambling St.&quot;</td><td>&quot;SWAC&quot;</td><td>31</td><td>20</td><td>97.7</td><td>106.0</td><td>0.2805</td><td>48.2</td><td>49.1</td><td>20.5</td><td>19.0</td><td>28.1</td><td>32.7</td><td>39.6</td><td>33.9</td><td>47.0</td><td>48.4</td><td>34.1</td><td>33.7</td><td>64.9</td><td>-8.0</td><td>&quot;R64&quot;</td><td>16</td><td>2024</td><td>0</td></tr><tr><td>&quot;Wagner&quot;</td><td>&quot;NEC&quot;</td><td>29</td><td>16</td><td>95.0</td><td>105.0</td><td>0.2399</td><td>44.6</td><td>48.4</td><td>15.9</td><td>17.0</td><td>29.5</td><td>27.0</td><td>26.8</td><td>29.9</td><td>42.8</td><td>50.9</td><td>31.6</td><td>29.9</td><td>61.3</td><td>-11.7</td><td>&quot;R64&quot;</td><td>16</td><td>2024</td><td>0</td></tr></tbody></table></div>"
      ],
      "text/plain": [
       "shape: (748, 25)\n",
       "┌────────────────┬──────┬─────┬─────┬───┬────────────┬──────┬──────┬─────────────────┐\n",
       "│ TEAM           ┆ CONF ┆ G   ┆ W   ┆ … ┆ POSTSEASON ┆ SEED ┆ YEAR ┆ POSTSEASON_WINS │\n",
       "│ ---            ┆ ---  ┆ --- ┆ --- ┆   ┆ ---        ┆ ---  ┆ ---  ┆ ---             │\n",
       "│ str            ┆ str  ┆ i64 ┆ i64 ┆   ┆ str        ┆ i32  ┆ i64  ┆ i32             │\n",
       "╞════════════════╪══════╪═════╪═════╪═══╪════════════╪══════╪══════╪═════════════════╡\n",
       "│ North Carolina ┆ ACC  ┆ 40  ┆ 33  ┆ … ┆ 2ND        ┆ 1    ┆ 2016 ┆ 5               │\n",
       "│ Wisconsin      ┆ B10  ┆ 40  ┆ 36  ┆ … ┆ 2ND        ┆ 1    ┆ 2015 ┆ 5               │\n",
       "│ Michigan       ┆ B10  ┆ 40  ┆ 33  ┆ … ┆ 2ND        ┆ 3    ┆ 2018 ┆ 5               │\n",
       "│ Texas Tech     ┆ B12  ┆ 38  ┆ 31  ┆ … ┆ 2ND        ┆ 3    ┆ 2019 ┆ 5               │\n",
       "│ Gonzaga        ┆ WCC  ┆ 39  ┆ 37  ┆ … ┆ 2ND        ┆ 1    ┆ 2017 ┆ 5               │\n",
       "│ …              ┆ …    ┆ …   ┆ …   ┆ … ┆ …          ┆ …    ┆ …    ┆ …               │\n",
       "│ Montana St.    ┆ BSky ┆ 31  ┆ 17  ┆ … ┆ R68        ┆ 16   ┆ 2024 ┆ 0               │\n",
       "│ Stetson        ┆ ASun ┆ 31  ┆ 22  ┆ … ┆ R64        ┆ 16   ┆ 2024 ┆ 0               │\n",
       "│ Howard         ┆ MEAC ┆ 32  ┆ 18  ┆ … ┆ R68        ┆ 16   ┆ 2024 ┆ 0               │\n",
       "│ Grambling St.  ┆ SWAC ┆ 31  ┆ 20  ┆ … ┆ R64        ┆ 16   ┆ 2024 ┆ 0               │\n",
       "│ Wagner         ┆ NEC  ┆ 29  ┆ 16  ┆ … ┆ R64        ┆ 16   ┆ 2024 ┆ 0               │\n",
       "└────────────────┴──────┴─────┴─────┴───┴────────────┴──────┴──────┴─────────────────┘"
      ]
     },
     "execution_count": 35,
     "metadata": {},
     "output_type": "execute_result"
    }
   ],
   "source": [
    "df_postseason_wins"
   ]
  },
  {
   "cell_type": "markdown",
   "id": "e861f154",
   "metadata": {},
   "source": [
    "## EDA new columns\n",
    "* Do a plot of postseason wins by seed\n",
    "* plot of total postseason wins by year - should be exactly 32 per year (since R68 wins are not counted)\n",
    "* Show the number of postseason wins per team by year\n",
    "* Show the total number of posteseason wins per team over the past 10 years total... that's always fun"
   ]
  },
  {
   "cell_type": "markdown",
   "id": "54ef34f6",
   "metadata": {},
   "source": [
    "ps_wins_group = df.group_by()"
   ]
  }
 ],
 "metadata": {
  "kernelspec": {
   "display_name": "basketball-bracket",
   "language": "python",
   "name": "python3"
  },
  "language_info": {
   "codemirror_mode": {
    "name": "ipython",
    "version": 3
   },
   "file_extension": ".py",
   "mimetype": "text/x-python",
   "name": "python",
   "nbconvert_exporter": "python",
   "pygments_lexer": "ipython3",
   "version": "3.13.7"
  }
 },
 "nbformat": 4,
 "nbformat_minor": 5
}
