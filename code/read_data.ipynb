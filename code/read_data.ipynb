{
 "cells": [
  {
   "cell_type": "markdown",
   "id": "91110deb",
   "metadata": {},
   "source": [
    "## Get the data from the kaggle dataset using their API\n",
    "Source: https://www.kaggle.com/datasets/andrewsundberg/college-basketball-dataset/data?select=cbb.csv"
   ]
  },
  {
   "cell_type": "code",
   "execution_count": null,
   "id": "8ef67f80",
   "metadata": {},
   "outputs": [],
   "source": [
    "import kagglehub\n",
    "from kagglehub import KaggleDatasetAdapter\n",
    "import polars as pl\n",
    "import matplotlib.pyplot as plt\n",
    "import numpy as np\n",
    "from matplotlib import ticker\n",
    "\n",
    "file_path = \"cbb.csv\"\n",
    "\n",
    "lf = kagglehub.dataset_load(\n",
    "  KaggleDatasetAdapter.POLARS,\n",
    "  \"andrewsundberg/college-basketball-dataset\",\n",
    "  file_path,\n",
    "  # See the documenation for more information:\n",
    "  # https://github.com/Kaggle/kagglehub/blob/main/README.md#kaggledatasetadapterpolars\n",
    ")\n",
    "\n",
    "df = lf.collect()"
   ]
  },
  {
   "cell_type": "markdown",
   "id": "588cf8cb",
   "metadata": {},
   "source": [
    "## Exploratory Analysis\n",
    "* There is a good amount of information about the dataset and column specifics on the kaggle page where the data is from"
   ]
  },
  {
   "cell_type": "code",
   "execution_count": null,
   "id": "c4262e15",
   "metadata": {},
   "outputs": [],
   "source": [
    "df.head()"
   ]
  },
  {
   "cell_type": "code",
   "execution_count": null,
   "id": "1d54a16c",
   "metadata": {},
   "outputs": [],
   "source": [
    "df.describe()\n",
    "## there are no nulls\n",
    "## postseason and seed are strings which we may want to make numbers or binary later on\n",
    "## the 2025 data is not included yet, we could add that in later if we really wanted to"
   ]
  },
  {
   "cell_type": "markdown",
   "id": "c517f661",
   "metadata": {},
   "source": [
    "## Data transformation:\n",
    "* For this project, I am going to try to predict the number of postseason wins for each team in hopes of predicting the elusive perfect bracket\n",
    "* This will require some transformations to the data namely:\n",
    "    * translating the POSTSEASON column into a POSTSEASON_WINS column which will become our depenedent variable\n",
    "    * removing all of the data for the teams that did not make the post-season: all of these teams would effectively have 0 post-season wins and would add a lot of data that has little value because we are aiming to differentiate between the top teams that made the tournament when completing a bracket"
   ]
  },
  {
   "cell_type": "code",
   "execution_count": null,
   "id": "3c74f67d",
   "metadata": {},
   "outputs": [],
   "source": [
    "## Looking at these results, we can figure out which variables we need to translate\n",
    "print(df.get_column('POSTSEASON').unique().to_list())\n",
    "\n",
    "## This output shows there is no differentiation for the Round of R68 teams\n",
    "## Since these games are often ignored in classic 64 team brackets, they will be removed from the data\n",
    "print(df.get_column('SEED').unique().to_list())\n",
    "print('!!! CHECK THIS IS WHAT WE ENDED UP DOING !!!')"
   ]
  },
  {
   "cell_type": "code",
   "execution_count": null,
   "id": "8e4fc677",
   "metadata": {},
   "outputs": [],
   "source": [
    "POSTSEASON_to_WINS = {\n",
    "    'R68':      0, \n",
    "    'R64':      0, \n",
    "    'R32':      1, \n",
    "    'S16':      2, \n",
    "    'E8':       3, \n",
    "    'F4':       4, \n",
    "    '2ND':      5, \n",
    "    'Champions':6, \n",
    "}\n",
    "\n",
    "df_postseason_wins = (df\n",
    "                      .filter(pl.col('POSTSEASON').is_in(POSTSEASON_to_WINS.keys()))\n",
    "                      .with_columns(pl.col('POSTSEASON').replace(POSTSEASON_to_WINS).alias('POSTSEASON_WINS').cast(pl.Int32),\n",
    "                                    pl.col('SEED').cast(pl.Int32))\n",
    "                )"
   ]
  },
  {
   "cell_type": "code",
   "execution_count": null,
   "id": "929891bf",
   "metadata": {},
   "outputs": [],
   "source": [
    "df_postseason_wins"
   ]
  },
  {
   "cell_type": "markdown",
   "id": "e861f154",
   "metadata": {},
   "source": [
    "## EDA for the Postseason Wins dataframe"
   ]
  },
  {
   "cell_type": "markdown",
   "id": "6ceb8db7",
   "metadata": {},
   "source": [
    "#### Total number of postseason wins by seed"
   ]
  },
  {
   "cell_type": "code",
   "execution_count": null,
   "id": "41897666",
   "metadata": {},
   "outputs": [],
   "source": [
    "## data prep\n",
    "postseason_wins_by_seed = (df_postseason_wins\n",
    "        .group_by(pl.col('SEED')).agg(pl.col('POSTSEASON_WINS').sum())\n",
    "        .sort('SEED')\n",
    ")\n",
    "\n",
    "## plot\n",
    "fig, ax = plt.subplots(figsize = (8,5))\n",
    "\n",
    "plt.bar(postseason_wins_by_seed['SEED'], postseason_wins_by_seed['POSTSEASON_WINS'])\n",
    "\n",
    "ax.xaxis.set_major_locator(ticker.MultipleLocator(1))\n",
    "plt.xlim(postseason_wins_by_seed['SEED'].min()-.5, postseason_wins_by_seed['SEED'].max()+.5)\n",
    "\n",
    "for bars in ax.containers:\n",
    "    ax.bar_label(bars)\n",
    "    \n",
    "plt.xlabel('Seed'), plt.ylabel('Wins');"
   ]
  },
  {
   "cell_type": "markdown",
   "id": "57eb40a8",
   "metadata": {},
   "source": [
    "A few interesting results intitially:\n",
    "* 1 seeds are far and away the most winning teams, no surprises there\n",
    "* There have been some standout 11 seeds with nearly as many wins as 5 seeds!"
   ]
  },
  {
   "cell_type": "markdown",
   "id": "59cfe17a",
   "metadata": {},
   "source": [
    "#### Integrity check: make sure there are the same number of wins per year"
   ]
  },
  {
   "cell_type": "code",
   "execution_count": null,
   "id": "8a73b52c",
   "metadata": {},
   "outputs": [],
   "source": [
    "## This should just be a quick check that every year has the same number of total wins in the tourney (63)\n",
    "\n",
    "## data prep\n",
    "wins_by_year = (df_postseason_wins\n",
    "        .group_by(pl.col('YEAR')).agg(pl.col('POSTSEASON_WINS').sum())\n",
    "        .sort('YEAR')\n",
    ")\n",
    "\n",
    "## plot\n",
    "fig, ax = plt.subplots(figsize = (8,5))\n",
    "\n",
    "plt.bar(wins_by_year['YEAR'], wins_by_year['POSTSEASON_WINS'])\n",
    "\n",
    "ax.xaxis.set_major_locator(ticker.MultipleLocator(1))\n",
    "plt.xlim(wins_by_year['YEAR'].min()-.5, wins_by_year['YEAR'].max()+.5)\n",
    "\n",
    "for bars in ax.containers:\n",
    "    ax.bar_label(bars)\n",
    "    \n",
    "plt.xlabel('Year'), plt.ylabel('Wins');"
   ]
  },
  {
   "cell_type": "markdown",
   "id": "80d92890",
   "metadata": {},
   "source": [
    "#### Total wins by team since 2013 (min. 10 wins)"
   ]
  },
  {
   "cell_type": "code",
   "execution_count": null,
   "id": "4f75ded5",
   "metadata": {},
   "outputs": [],
   "source": [
    "## data prep\n",
    "postseason_wins_by_team = (df_postseason_wins\n",
    "        .group_by(pl.col('TEAM')).agg(pl.col('POSTSEASON_WINS').sum())\n",
    "        .filter(pl.col('POSTSEASON_WINS') >= 10)\n",
    "        .sort('POSTSEASON_WINS')\n",
    ")\n",
    "\n",
    "## plot\n",
    "fig, ax = plt.subplots(figsize = (8,5))\n",
    "\n",
    "plt.barh(postseason_wins_by_team['TEAM'], postseason_wins_by_team['POSTSEASON_WINS'])\n",
    "\n",
    "ax.xaxis.set_major_locator(ticker.MultipleLocator(5))\n",
    "    \n",
    "plt.xlabel('Wins')"
   ]
  },
  {
   "cell_type": "code",
   "execution_count": null,
   "id": "42a7f9a3",
   "metadata": {},
   "outputs": [],
   "source": []
  }
 ],
 "metadata": {
  "kernelspec": {
   "display_name": "basketball-bracket",
   "language": "python",
   "name": "python3"
  },
  "language_info": {
   "codemirror_mode": {
    "name": "ipython",
    "version": 3
   },
   "file_extension": ".py",
   "mimetype": "text/x-python",
   "name": "python",
   "nbconvert_exporter": "python",
   "pygments_lexer": "ipython3",
   "version": "3.13.7"
  }
 },
 "nbformat": 4,
 "nbformat_minor": 5
}
