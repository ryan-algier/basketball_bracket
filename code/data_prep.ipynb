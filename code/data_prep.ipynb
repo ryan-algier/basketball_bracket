{
 "cells": [
  {
   "cell_type": "markdown",
   "id": "1b5f4cfd",
   "metadata": {},
   "source": [
    "## Load imports and read data"
   ]
  },
  {
   "cell_type": "code",
   "execution_count": 8,
   "id": "975256a3",
   "metadata": {},
   "outputs": [
    {
     "name": "stdout",
     "output_type": "stream",
     "text": [
      "(748, 25)\n"
     ]
    },
    {
     "data": {
      "text/html": [
       "<div><style>\n",
       ".dataframe > thead > tr,\n",
       ".dataframe > tbody > tr {\n",
       "  text-align: right;\n",
       "  white-space: pre-wrap;\n",
       "}\n",
       "</style>\n",
       "<small>shape: (5, 25)</small><table border=\"1\" class=\"dataframe\"><thead><tr><th>TEAM</th><th>CONF</th><th>G</th><th>W</th><th>ADJOE</th><th>ADJDE</th><th>BARTHAG</th><th>EFG_O</th><th>EFG_D</th><th>TOR</th><th>TORD</th><th>ORB</th><th>DRB</th><th>FTR</th><th>FTRD</th><th>2P_O</th><th>2P_D</th><th>3P_O</th><th>3P_D</th><th>ADJ_T</th><th>WAB</th><th>POSTSEASON</th><th>SEED</th><th>YEAR</th><th>POSTSEASON_WINS</th></tr><tr><td>str</td><td>str</td><td>i64</td><td>i64</td><td>f64</td><td>f64</td><td>f64</td><td>f64</td><td>f64</td><td>f64</td><td>f64</td><td>f64</td><td>f64</td><td>f64</td><td>f64</td><td>f64</td><td>f64</td><td>f64</td><td>f64</td><td>f64</td><td>f64</td><td>str</td><td>i64</td><td>i64</td><td>i64</td></tr></thead><tbody><tr><td>&quot;North Carolina&quot;</td><td>&quot;ACC&quot;</td><td>40</td><td>33</td><td>123.3</td><td>94.9</td><td>0.9531</td><td>52.6</td><td>48.1</td><td>15.4</td><td>18.2</td><td>40.7</td><td>30.0</td><td>32.3</td><td>30.4</td><td>53.9</td><td>44.6</td><td>32.7</td><td>36.2</td><td>71.7</td><td>8.6</td><td>&quot;2ND&quot;</td><td>1</td><td>2016</td><td>5</td></tr><tr><td>&quot;Wisconsin&quot;</td><td>&quot;B10&quot;</td><td>40</td><td>36</td><td>129.1</td><td>93.6</td><td>0.9758</td><td>54.8</td><td>47.7</td><td>12.4</td><td>15.8</td><td>32.1</td><td>23.7</td><td>36.2</td><td>22.4</td><td>54.8</td><td>44.7</td><td>36.5</td><td>37.5</td><td>59.3</td><td>11.3</td><td>&quot;2ND&quot;</td><td>1</td><td>2015</td><td>5</td></tr><tr><td>&quot;Michigan&quot;</td><td>&quot;B10&quot;</td><td>40</td><td>33</td><td>114.4</td><td>90.4</td><td>0.9375</td><td>53.9</td><td>47.7</td><td>14.0</td><td>19.5</td><td>25.5</td><td>24.9</td><td>30.7</td><td>30.0</td><td>54.7</td><td>46.8</td><td>35.2</td><td>33.2</td><td>65.9</td><td>6.9</td><td>&quot;2ND&quot;</td><td>3</td><td>2018</td><td>5</td></tr><tr><td>&quot;Texas Tech&quot;</td><td>&quot;B12&quot;</td><td>38</td><td>31</td><td>115.2</td><td>85.2</td><td>0.9696</td><td>53.5</td><td>43.0</td><td>17.7</td><td>22.8</td><td>27.4</td><td>28.7</td><td>32.9</td><td>36.6</td><td>52.8</td><td>41.9</td><td>36.5</td><td>29.7</td><td>67.5</td><td>7.0</td><td>&quot;2ND&quot;</td><td>3</td><td>2019</td><td>5</td></tr><tr><td>&quot;Gonzaga&quot;</td><td>&quot;WCC&quot;</td><td>39</td><td>37</td><td>117.8</td><td>86.3</td><td>0.9728</td><td>56.6</td><td>41.1</td><td>16.2</td><td>17.1</td><td>30.0</td><td>26.2</td><td>39.0</td><td>26.9</td><td>56.3</td><td>40.0</td><td>38.2</td><td>29.0</td><td>71.5</td><td>7.7</td><td>&quot;2ND&quot;</td><td>1</td><td>2017</td><td>5</td></tr></tbody></table></div>"
      ],
      "text/plain": [
       "shape: (5, 25)\n",
       "┌────────────────┬──────┬─────┬─────┬───┬────────────┬──────┬──────┬─────────────────┐\n",
       "│ TEAM           ┆ CONF ┆ G   ┆ W   ┆ … ┆ POSTSEASON ┆ SEED ┆ YEAR ┆ POSTSEASON_WINS │\n",
       "│ ---            ┆ ---  ┆ --- ┆ --- ┆   ┆ ---        ┆ ---  ┆ ---  ┆ ---             │\n",
       "│ str            ┆ str  ┆ i64 ┆ i64 ┆   ┆ str        ┆ i64  ┆ i64  ┆ i64             │\n",
       "╞════════════════╪══════╪═════╪═════╪═══╪════════════╪══════╪══════╪═════════════════╡\n",
       "│ North Carolina ┆ ACC  ┆ 40  ┆ 33  ┆ … ┆ 2ND        ┆ 1    ┆ 2016 ┆ 5               │\n",
       "│ Wisconsin      ┆ B10  ┆ 40  ┆ 36  ┆ … ┆ 2ND        ┆ 1    ┆ 2015 ┆ 5               │\n",
       "│ Michigan       ┆ B10  ┆ 40  ┆ 33  ┆ … ┆ 2ND        ┆ 3    ┆ 2018 ┆ 5               │\n",
       "│ Texas Tech     ┆ B12  ┆ 38  ┆ 31  ┆ … ┆ 2ND        ┆ 3    ┆ 2019 ┆ 5               │\n",
       "│ Gonzaga        ┆ WCC  ┆ 39  ┆ 37  ┆ … ┆ 2ND        ┆ 1    ┆ 2017 ┆ 5               │\n",
       "└────────────────┴──────┴─────┴─────┴───┴────────────┴──────┴──────┴─────────────────┘"
      ]
     },
     "metadata": {},
     "output_type": "display_data"
    }
   ],
   "source": [
    "import pandas as pd\n",
    "import polars as pl\n",
    "from pathlib import Path\n",
    "import matplotlib.pyplot as plt\n",
    "import numpy as np\n",
    "\n",
    "df = pl.read_csv('../input_data/cbb_postseason_wins.csv')\n",
    "print(df.shape)\n",
    "display(df.head())"
   ]
  },
  {
   "cell_type": "code",
   "execution_count": null,
   "id": "71814e0c",
   "metadata": {},
   "outputs": [],
   "source": []
  },
  {
   "cell_type": "markdown",
   "id": "ad055c1a",
   "metadata": {},
   "source": [
    "## TO DO:\n",
    "* Avg wins by seed\n",
    "* Correlation matrix - figure out which variables are highly correlated and might be confounding\n",
    "* Linear Regression\n",
    "* Non Linear regression\n",
    "* NN\n",
    "* KNN\n",
    "* Decision tree\n",
    "* Random Forest\n",
    "* Single variable predictions - will a team make the final four (equivalent of 4 wins)\n",
    "* Multivariable prediction - how many games do we expect a team to win\n"
   ]
  }
 ],
 "metadata": {
  "kernelspec": {
   "display_name": "basketball-bracket",
   "language": "python",
   "name": "python3"
  },
  "language_info": {
   "codemirror_mode": {
    "name": "ipython",
    "version": 3
   },
   "file_extension": ".py",
   "mimetype": "text/x-python",
   "name": "python",
   "nbconvert_exporter": "python",
   "pygments_lexer": "ipython3",
   "version": "3.13.7"
  }
 },
 "nbformat": 4,
 "nbformat_minor": 5
}
